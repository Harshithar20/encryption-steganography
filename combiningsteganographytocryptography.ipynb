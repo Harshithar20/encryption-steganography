{
 "cells": [
  {
   "cell_type": "code",
   "execution_count": 1,
   "id": "e410dc57-4b1e-4407-aa1f-bc8a75c82478",
   "metadata": {},
   "outputs": [],
   "source": [
    "#secret,key stegno stego object + encryption key cipher\n",
    "import cv2\n",
    "import string\n",
    "import os\n",
    "from Crypto.Cipher import AES #AES cipher\n",
    "from Crypto.Util.Padding import pad,unpad  #ensure input text fits AES Block size\n",
    "from Crypto.Random import get_random_bytes\n",
    "import hashlib"
   ]
  },
  {
   "cell_type": "code",
   "execution_count": 2,
   "id": "ffe4e820-9497-4830-a4eb-4ed1692e8354",
   "metadata": {},
   "outputs": [],
   "source": [
    "#key generation\n",
    "#encryption\n",
    "#decryption\n",
    "\n",
    "def derive_key(userkey):\n",
    "    return hashlib.sha256(userkey.encode()).digest()[:16]"
   ]
  },
  {
   "cell_type": "code",
   "execution_count": 3,
   "id": "f08fb360-0ab2-4e3e-b148-12999c4ad0f7",
   "metadata": {},
   "outputs": [],
   "source": [
    "def encrypt_message(msg,userkey):\n",
    "    key=derive_key(userkey)  #hashing key \n",
    "    cipher=AES.new(key,AES.MODE_CBC)\n",
    "    ct=cipher.encrypt(pad(msg.encode(),AES.block_size))\n",
    "    return cipher.iv + ct"
   ]
  },
  {
   "cell_type": "code",
   "execution_count": 4,
   "id": "615f9b7d-ac63-48fe-834a-04aa2a0d51c2",
   "metadata": {},
   "outputs": [],
   "source": [
    "def decrypt_message(cipher_bytes,userkey):\n",
    "    key=derive_key(userkey)  #hashing key \n",
    "    iv=cipher_bytes[:16]\n",
    "    ct=cipher_bytes[16:]\n",
    "    cipher=AES.new(key,AES.MODE_CBC,iv)\n",
    "    return unpad(cipher.decrypt(ct),AES.block_size).decode()"
   ]
  },
  {
   "cell_type": "code",
   "execution_count": 5,
   "id": "0756a48c-929a-44d8-b625-f146daa7cc56",
   "metadata": {},
   "outputs": [],
   "source": [
    "d={}\n",
    "c={}\n",
    "for i in range(256):\n",
    "    d[chr(i)]=i\n",
    "    c[i]=chr(i)"
   ]
  },
  {
   "cell_type": "code",
   "execution_count": 6,
   "id": "1b4999a2-d542-404b-b9c8-73a19643c342",
   "metadata": {},
   "outputs": [
    {
     "name": "stdout",
     "output_type": "stream",
     "text": [
      "[[[238 234 233]\n",
      "  [238 234 233]\n",
      "  [237 233 232]\n",
      "  ...\n",
      "  [212 216 221]\n",
      "  [213 217 222]\n",
      "  [210 216 221]]\n",
      "\n",
      " [[238 234 233]\n",
      "  [238 234 233]\n",
      "  [237 233 232]\n",
      "  ...\n",
      "  [214 218 223]\n",
      "  [214 218 223]\n",
      "  [210 216 221]]\n",
      "\n",
      " [[238 234 233]\n",
      "  [238 234 233]\n",
      "  [237 233 232]\n",
      "  ...\n",
      "  [216 220 225]\n",
      "  [214 218 223]\n",
      "  [210 216 221]]\n",
      "\n",
      " ...\n",
      "\n",
      " [[183 177 194]\n",
      "  [169 163 180]\n",
      "  [168 162 181]\n",
      "  ...\n",
      "  [236 237 235]\n",
      "  [236 237 235]\n",
      "  [236 237 235]]\n",
      "\n",
      " [[159 153 170]\n",
      "  [157 151 168]\n",
      "  [166 160 179]\n",
      "  ...\n",
      "  [237 238 236]\n",
      "  [237 238 236]\n",
      "  [237 238 236]]\n",
      "\n",
      " [[148 142 159]\n",
      "  [160 154 171]\n",
      "  [175 169 188]\n",
      "  ...\n",
      "  [239 240 238]\n",
      "  [238 239 237]\n",
      "  [238 239 237]]]\n"
     ]
    }
   ],
   "source": [
    "x=cv2.imread(r\"C:\\Users\\HP\\Downloads\\food_image.jpg\")\n",
    "print(x)"
   ]
  },
  {
   "cell_type": "code",
   "execution_count": 7,
   "id": "69ad4e24-038f-4c71-8187-1687526b07b5",
   "metadata": {},
   "outputs": [],
   "source": [
    "key=\"123\"\n",
    "text=\"secret\""
   ]
  },
  {
   "cell_type": "code",
   "execution_count": 8,
   "id": "bf67cd58-2ace-44a3-87d4-af8e24993edd",
   "metadata": {},
   "outputs": [
    {
     "name": "stdout",
     "output_type": "stream",
     "text": [
      "32\n"
     ]
    }
   ],
   "source": [
    "encrypted_bytes=encrypt_message(text,key)\n",
    "l=len(encrypted_bytes)\n",
    "print(l)"
   ]
  },
  {
   "cell_type": "code",
   "execution_count": 9,
   "id": "5b1d4902-c582-4931-b9f7-7346670eb454",
   "metadata": {},
   "outputs": [],
   "source": [
    "n=0  #number of rows\n",
    "m=0  #number of colouns\n",
    "z=0  #color panel\n",
    "kl=0\n",
    "for i in range(l):\n",
    "    x[n,m,z]=encrypted_bytes[i]^d[key[kl]]  #important\n",
    "    #print(f\"Embedding '{text[i]}' (ASCII {d[text[i]]}) XOR '{key[kl]}' (ASCII {d[key[kl]]}) = {new_val} at pixel ({n},{m},{z}) [origin={orig_val}]\")\n",
    "    n=n+1\n",
    "    m=m+1\n",
    "    z=(z+1)%3\n",
    "    m=(m+1)%3\n",
    "    kl=(kl+1)%len(key)"
   ]
  },
  {
   "cell_type": "code",
   "execution_count": 10,
   "id": "402666a4-74f2-4126-9ede-5d1aeaa5ea11",
   "metadata": {},
   "outputs": [
    {
     "name": "stdout",
     "output_type": "stream",
     "text": [
      "success\n"
     ]
    }
   ],
   "source": [
    "cv2.imwrite(\"encrypting.jpg\",x)\n",
    "os.startfile(\"encrypting.jpg\")\n",
    "print(\"success\")"
   ]
  },
  {
   "cell_type": "code",
   "execution_count": null,
   "id": "2053a65a-687a-468f-b721-736cbd471605",
   "metadata": {},
   "outputs": [],
   "source": [
    "n,m,z=0,0,0\n",
    "kl=0\n",
    "key1=input(\"renter key\")\n",
    "if key==key1:\n",
    "    encrypted_back=bytearray()\n",
    "for i in range(l):\n",
    "    encrypted_back.append(x[n,m,z]^d[key[kl]])\n",
    "    n=n+1\n",
    "    m=m+1\n",
    "    m=(m+1)%3\n",
    "    z=(z+1)%3\n",
    "    kl=(kl+1)%len(key)\n",
    "    decrypted=decrypt_message(bytes(encrypted_back),key)\n",
    "    print(decrypted)\n",
    "else:\n",
    "    print(\"mismatch\")\n",
    "\n",
    "    "
   ]
  },
  {
   "cell_type": "code",
   "execution_count": null,
   "id": "c145c8de-2fbc-486b-872e-770eafd8ae7e",
   "metadata": {},
   "outputs": [],
   "source": []
  }
 ],
 "metadata": {
  "kernelspec": {
   "display_name": "Python 3 (ipykernel)",
   "language": "python",
   "name": "python3"
  },
  "language_info": {
   "codemirror_mode": {
    "name": "ipython",
    "version": 3
   },
   "file_extension": ".py",
   "mimetype": "text/x-python",
   "name": "python",
   "nbconvert_exporter": "python",
   "pygments_lexer": "ipython3",
   "version": "3.12.7"
  }
 },
 "nbformat": 4,
 "nbformat_minor": 5
}
